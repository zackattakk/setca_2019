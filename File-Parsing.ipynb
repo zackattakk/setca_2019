{
 "cells": [
  {
   "cell_type": "markdown",
   "metadata": {},
   "source": [
    "## File Parsing Lesson"
   ]
  },
  {
   "cell_type": "code",
   "execution_count": 1,
   "metadata": {},
   "outputs": [
    {
     "name": "stdout",
     "output_type": "stream",
     "text": [
      " Volume in drive C has no label.\n",
      " Volume Serial Number is 58AB-3C97\n",
      "\n",
      " Directory of C:\\Users\\owner\\Desktop\\cms-workshop\n",
      "\n",
      "05/15/2019  02:09 PM    <DIR>          .\n",
      "05/15/2019  02:09 PM    <DIR>          ..\n",
      "05/15/2019  02:08 PM    <DIR>          .ipynb_checkpoints\n",
      "05/15/2019  10:38 AM    <DIR>          data\n",
      "05/15/2019  10:37 AM           191,618 data.zip\n",
      "05/15/2019  02:09 PM               660 File-Parsing.ipynb\n",
      "05/15/2019  02:09 PM            11,430 MolSSI Intro.ipynb\n",
      "               3 File(s)        203,708 bytes\n",
      "               4 Dir(s)  164,844,240,896 bytes free\n"
     ]
    }
   ],
   "source": [
    "ls"
   ]
  },
  {
   "cell_type": "code",
   "execution_count": 2,
   "metadata": {},
   "outputs": [
    {
     "name": "stdout",
     "output_type": "stream",
     "text": [
      " Volume in drive C has no label.\n",
      " Volume Serial Number is 58AB-3C97\n",
      "\n",
      " Directory of C:\\Users\\owner\\Desktop\\cms-workshop\\data\n",
      "\n",
      "05/15/2019  10:38 AM    <DIR>          .\n",
      "05/15/2019  10:38 AM    <DIR>          ..\n",
      "05/15/2019  10:38 AM    <DIR>          data\n",
      "               0 File(s)              0 bytes\n",
      "               3 Dir(s)  164,843,651,072 bytes free\n"
     ]
    }
   ],
   "source": [
    "ls data"
   ]
  },
  {
   "cell_type": "code",
   "execution_count": null,
   "metadata": {},
   "outputs": [],
   "source": []
  }
 ],
 "metadata": {
  "kernelspec": {
   "display_name": "Python 3",
   "language": "python",
   "name": "python3"
  },
  "language_info": {
   "codemirror_mode": {
    "name": "ipython",
    "version": 3
   },
   "file_extension": ".py",
   "mimetype": "text/x-python",
   "name": "python",
   "nbconvert_exporter": "python",
   "pygments_lexer": "ipython3",
   "version": "3.7.3"
  }
 },
 "nbformat": 4,
 "nbformat_minor": 2
}
